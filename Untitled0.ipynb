{
  "nbformat": 4,
  "nbformat_minor": 0,
  "metadata": {
    "colab": {
      "provenance": []
    },
    "kernelspec": {
      "name": "python3",
      "display_name": "Python 3"
    },
    "language_info": {
      "name": "python"
    }
  },
  "cells": [
    {
      "cell_type": "code",
      "execution_count": null,
      "metadata": {
        "id": "momlYHJ3iIDN"
      },
      "outputs": [],
      "source": [
        "\n"
      ]
    },
    {
      "cell_type": "markdown",
      "source": [
        "What is Object-Oriented Programming (OOP)\n",
        "\n",
        "  --- Object-Oriented Programming (OOP) is a programming model that organizes software design around real-world \"objects\" and \"classes\". A class acts as a blueprint for creating these objects, while an object is an instance of that class, representing a specific entity with its own data (attributes) and behaviors (methods). OOP promotes code reusability and maintainability by grouping related data and functions together, using key principles like encapsulation, inheritance, polymorphism, and abstraction.\n"
      ],
      "metadata": {
        "id": "-wEO6fcBiWea"
      }
    },
    {
      "cell_type": "markdown",
      "source": [
        "2. What is a class in OOPs ?\n",
        "\n",
        "   --- In Object-Oriented Programming (OOP), a class serves as a blueprint or template for creating objects. It defines the structure and behavior that objects of that class will possess.\n",
        "Specifically, a class encapsulates:\n",
        "Attributes (Data/Variables):\n",
        "These define the characteristics or state of an object. For example, in a Car class, attributes might include color, model, and speed.\n",
        "Methods (Functions/Behaviors):\n",
        "These define the actions or operations that objects of the class can perform. In the Car class example, methods could include accelerate(), brake(), and turn().\n",
        "Think of a class like a cookie cutter: the cookie cutter itself doesn't represent a specific cookie, but it defines the shape and potential features of any cookie created using it. Similarly, a class defines the properties and actions that its instances (objects) will have, but it is not an object itself."
      ],
      "metadata": {
        "id": "keYM9lV1ihlJ"
      }
    },
    {
      "cell_type": "markdown",
      "source": [
        "3. What is an object in OOP ?\n",
        "\n",
        "  --- In Object-Oriented Programming (OOP) in Python, an object is a fundamental concept representing a concrete instance of a class. It is a self-contained entity that encapsulates both data (attributes) and behavior (methods).\n",
        "Key characteristics of an object in Python OOP:\n",
        "Instance of a Class:\n",
        "An object is created from a class, which acts as a blueprint or template defining the structure and behavior of all objects belonging to that class.\n",
        "State (Attributes):\n",
        "Objects possess attributes, which are variables that store data specific to that particular object. These attributes define the object's current state.\n",
        "Behavior (Methods):\n",
        "Objects also have methods, which are functions associated with the object that define its actions or operations. Methods operate on the object's attributes and can interact with other objects."
      ],
      "metadata": {
        "id": "N9emfRKJjDfA"
      }
    },
    {
      "cell_type": "markdown",
      "source": [
        "4. What is the difference between abstraction and encapsulation ?\n",
        "\n",
        "   --- Abstraction and encapsulation are two distinct but complementary concepts in object-oriented programming (OOP), including in Python.\n",
        "Abstraction focuses on what an object does rather than how it does it. It involves hiding the complex implementation details of a system and exposing only the essential functionalities to the user. This simplification allows for easier interaction with objects and promotes a clear separation between the interface and its underlying implementation. In Python, abstraction is often achieved through abstract classes and methods, which define a blueprint for subclasses to implement specific functionalities.\n",
        "Encapsulation, on the other hand, deals with bundling data (attributes) and methods (functions) that operate on that data within a single unit, typically a class. It emphasizes data hiding and controlled access to an object's internal state. This means that an object's data is protected from direct external modification and can only be accessed or manipulated through the defined methods of the class. In Python, encapsulation is achieved by convention through naming conventions (e.g., using a single leading underscore for \"protected\" attributes and a double leading underscore for \"private\" attributes) and by providing getter and setter methods to control access to data."
      ],
      "metadata": {
        "id": "WVm5mmw0jP0D"
      }
    },
    {
      "cell_type": "markdown",
      "source": [
        "5. What are dunder methods in Python ?\n",
        "\n",
        "   --- Dunder methods, also known as magic methods or special methods, are a core part of Python's object model. They are distinguished by their names, which begin and end with double underscores (e.g., __init__, __str__, __add__).\n",
        "Key characteristics and uses of dunder methods:\n",
        "Automatic Invocation:\n",
        "Dunder methods are not typically called directly by the programmer. Instead, they are automatically invoked by Python's built-in operations and functions when certain actions occur involving objects. For example, when you use the + operator on two objects, Python internally calls the __add__ dunder method of the first object.\n",
        "Operator Overloading:\n",
        "They enable operator overloading, allowing you to define how standard operators (like +, -, *, ==, []) behave when applied to instances of your custom classes. This makes your custom objects behave more like built-in types."
      ],
      "metadata": {
        "id": "OWpXUJupjfm5"
      }
    },
    {
      "cell_type": "markdown",
      "source": [
        "6. Explain the concept of inheritance in OOPS .\n",
        "\n",
        "   --- Inheritance in Object-Oriented Programming (OOP) in Python is a mechanism that allows a new class, known as the derived class (or child class/subclass), to inherit attributes and methods from an existing class, known as the base class (or parent class/superclass). This establishes a hierarchical \"is-a\" relationship between classes, promoting code reusability and reducing redundancy.\n",
        "Key Concepts of Inheritance:\n",
        "Base Class (Parent Class/Superclass):\n",
        "The class from which other classes inherit. It defines common attributes and methods shared by its derived classes."
      ],
      "metadata": {
        "id": "AcyfaCNajs65"
      }
    },
    {
      "cell_type": "markdown",
      "source": [
        "7. What is polymorphism in OOP ?\n",
        "\n",
        "   --- Polymorphism in object-oriented programming (OOP) is the ability of an object, method, or interface to take on multiple forms or behave in different ways depending on the context or the specific object type it's interacting with. The term \"polymorphism\" itself means \"many-shaped\" from the Greek words poly (many) and morph (forms). This key OOP principle allows for more flexible, adaptable, and reusable code by enabling you to write generic algorithms that can operate on different object types, making programs more efficient and easier to maintain.\n",
        "How Polymorphism Works\n",
        "Polymorphism is commonly achieved through two main mechanisms:\n",
        "1. Method Overloading (Compile-Time Polymorphism):\n",
        "This involves defining multiple methods with the same name but different parameters (number, type, or order of arguments) within the same class. The correct method is chosen at compile-time based on the arguments provided."
      ],
      "metadata": {
        "id": "u1Twl-_zkFWM"
      }
    },
    {
      "cell_type": "markdown",
      "source": [
        "8. How is encapsulation achieved in Python?\n",
        "\n",
        "   --- Encapsulation in Python is achieved through conventions and name mangling, rather than strict access modifiers like public, private, or protected found in other languages. The core idea is to bundle data (attributes) and the methods that operate on that data within a single unit (a class), and control access to the internal state.\n",
        "Here's how it's typically implemented:\n",
        "Public Members: By default, all attributes and methods in a Python class are considered public. They can be accessed directly from outside the class using the dot operator (.)."
      ],
      "metadata": {
        "id": "bAMyuF6ckyAD"
      }
    },
    {
      "cell_type": "markdown",
      "source": [
        "9. What is a constructor in Python?\n",
        "\n",
        "   --- In Python, a constructor is a special method within a class that is automatically invoked when a new object (instance) of that class is created. Its primary purpose is to initialize the object's attributes and set up its initial state.\n",
        "Key characteristics of a Python constructor:\n",
        "__init__ method:\n",
        "Python constructors are defined using the special method name __init__. This method is part of the class definition.\n",
        "Automatic invocation:\n",
        "When you create an object of a class, the __init__ method is automatically called by Python, eliminating the need for explicit initialization calls.\n",
        "Initialization of attributes:\n",
        "The main role of the constructor is to assign initial values to the instance variables (attributes) of the object. This ensures that the object is in a valid and ready-to-use state immediately after creation.\n",
        "self parameter:\n",
        "The first parameter of the __init__ method is always self, which refers to the instance of the class being created. This allows you to access and modify the object's attributes within the constructor."
      ],
      "metadata": {
        "id": "t6zZCWhElAOL"
      }
    },
    {
      "cell_type": "markdown",
      "source": [
        "10. What are class and static methods in Python?\n",
        "\n",
        "\n",
        "   --- In Python, both class methods and static methods are defined within a class but differ in their behavior and intended use.\n",
        "Class Methods:\n",
        "Definition: A class method is defined using the @classmethod decorator.\n",
        "Parameter: It takes the class itself as its first argument, conventionally named cls.\n",
        "Purpose: Class methods can access and modify class-level attributes. They are often used for:\n",
        "Alternative Constructors: Providing different ways to create instances of the class.\n",
        "Operations on Class State: Performing actions that relate to the entire class rather than a specific instance."
      ],
      "metadata": {
        "id": "TTVgcokjlaQV"
      }
    },
    {
      "cell_type": "markdown",
      "source": [
        "11. What is method overloading in Python ?\n",
        "\n",
        "   --- Method overloading in Python refers to the concept where a single method name can perform different operations based on the number or type of arguments passed to it. Unlike some other programming languages (like Java or C++), Python does not support traditional method overloading where you define multiple methods with the same name but different parameter lists.\n",
        "Instead, Python achieves similar functionality through its flexible argument handling mechanisms:\n",
        "Default Arguments: You can assign default values to parameters, allowing the method to be called with or without providing those specific arguments."
      ],
      "metadata": {
        "id": "qH92G4ahlnSW"
      }
    },
    {
      "cell_type": "markdown",
      "source": [],
      "metadata": {
        "id": "pqVrVYuSiL9s"
      }
    }
  ]
}