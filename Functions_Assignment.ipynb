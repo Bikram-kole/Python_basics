{
  "nbformat": 4,
  "nbformat_minor": 0,
  "metadata": {
    "colab": {
      "provenance": []
    },
    "kernelspec": {
      "name": "python3",
      "display_name": "Python 3"
    },
    "language_info": {
      "name": "python"
    }
  },
  "cells": [
    {
      "cell_type": "code",
      "execution_count": null,
      "metadata": {
        "id": "dNBi2vmrUowX"
      },
      "outputs": [],
      "source": []
    },
    {
      "cell_type": "markdown",
      "source": [
        "1. What is the difference between a function and a method in Python?\n",
        "\n",
        "  -- Simply, function and method both look similar as they perform in almost similar way, but the key difference is the concept of 'Class and its Object'.\n",
        "Functions can be called only by its name, as it is defined independently. But methods can't be called by its name only, we need to invoke the class by a reference of that class in which it is defined, i.e. method is defined within a class and hence they are dependent on that class."
      ],
      "metadata": {
        "id": "ibrG4NdMUqZs"
      }
    },
    {
      "cell_type": "markdown",
      "source": [
        "2.  Explain the concept of function arguments and parameters in Python.\n",
        "\n",
        "   -- Parameters are variables defined in a function declaration. This act as placeholders for the values (arguments) that will be passed to the function.\n",
        "\n",
        "Arguments are the actual values that you pass to the function when you call it. These values replace the parameters defined in the function.\n",
        "\n",
        "Although these terms are often used interchangeably, they have distinct roles within a function. This article focuses to clarify them and help us to use Parameters and Arguments effectively.\n",
        "\n",
        "Parameters\n",
        "A parameter is the variable defined within the parentheses when we declare a function.\n",
        "\n",
        "Arguments\n",
        "An argument is a value that is passed to a function when it is called. It might be a variable, value or object passed to a function or method as input."
      ],
      "metadata": {
        "id": "crhRcCKCU-rk"
      }
    },
    {
      "cell_type": "markdown",
      "source": [
        "3. What are the different ways to define and call a function in Python?\n",
        "\n",
        "  -- In Python, functions are defined to encapsulate reusable blocks of code and are called to execute that code.\n",
        "Defining a Function:\n",
        "A function is defined using the def keyword, followed by the function name, a set of parentheses that may contain parameters, and a colon. The code block belonging to the function must be indented. An optional return statement can be used to send a value back to the caller.\n",
        "\n",
        "Calling a Function:\n",
        "To call a function, its name is used, followed by parentheses containing any required arguments.\n",
        "\n",
        "Other Ways to Call Functions:\n",
        "While direct function calls are the most common, other methods exist for specific scenarios:\n",
        "Using partial() from functools: Creates a new callable with some arguments pre-filled.\n",
        "Using getattr(): Calls a method by its string name on an object.\n",
        "Using eval(): Executes a string as a Python expression, including function calls (use with caution due to security implications).\n",
        "Using methodcaller() from operator: Creates a callable that calls a specific method on its arguments."
      ],
      "metadata": {
        "id": "5p-q8HAmVzaX"
      }
    },
    {
      "cell_type": "markdown",
      "source": [
        "4. What is the purpose of the `return` statement in a Python function?\n",
        "\n",
        "  -- In Python, the return statement is used within a function to perform two primary actions:\n",
        "Terminate the function's execution:\n",
        "When a return statement is encountered during the execution of a function, the function immediately stops its current operation. No further code within that function, after the return statement, will be executed.\n",
        "Send a value back to the caller:\n",
        "The return statement can optionally include a value or expression after the return keyword. This value is then \"returned\" to the part of the code that called the function. The returned value can be assigned to a variable, used in another expression, or otherwise utilized by the calling code. If no value is specified after return, or if the return statement is omitted entirely, the function implicitly returns None."
      ],
      "metadata": {
        "id": "KDmNylC3WJNB"
      }
    },
    {
      "cell_type": "markdown",
      "source": [
        "5. What are iterators in Python and how do they differ from iterables?\n",
        "\n",
        "   -- n Python, iterables and iterators are distinct but related concepts fundamental to how loops and data traversal work.\n",
        "An iterable is any Python object capable of returning its members one at a time, allowing it to be iterated over in a for loop. Common examples include lists, tuples, strings, dictionaries, and sets. An object is considered iterable if it implements either the __iter__ method (which returns an iterator) or the __getitem__ method (which can be used with sequential integer indices, like object[0], object[1], etc.).\n",
        "An iterator is an object that represents a stream of data and allows you to traverse through the elements of an iterable one by one. Iterators implement the iterator protocol, which requires two methods:\n",
        "__iter__(): This method returns the iterator object itself.\n",
        "__next__(): This method returns the next item from the iteration. When there are no more items, it raises a StopIteration exception."
      ],
      "metadata": {
        "id": "q6hlYl5JWT10"
      }
    },
    {
      "cell_type": "markdown",
      "source": [
        "6. Explain the concept of generators in Python and how they are defined.\n",
        "\n",
        "   -- Generators in Python are a special type of iterable that allow you to create iterators in a memory-efficient and concise manner. Instead of constructing and storing an entire sequence in memory at once, generators produce values one at a time, on demand, using the yield keyword. This \"lazy evaluation\" makes them particularly useful for handling large datasets or infinite sequences where storing all elements simultaneously would be impractical or impossible.\n",
        "How Generators are Defined:\n",
        "Generators are defined in Python primarily in two ways: generator functions.\n",
        "A function becomes a generator function when it contains one or more yield statements. Unlike a regular function that uses return to send back a value and terminate, a generator function uses yield to produce a value, pause its execution, and save its internal state. When the generator is iterated over (e.g., in a for loop or by calling next()), it resumes execution from where it left off, continuing until the next yield statement or the end of the function.\n"
      ],
      "metadata": {
        "id": "YC8fCYFjWd_k"
      }
    },
    {
      "cell_type": "markdown",
      "source": [
        "7. What are the advantages of using generators over regular functions?\n",
        "\n",
        "   -- Generators in Python offer several advantages over regular functions, particularly when dealing with large datasets or sequences:\n",
        "Memory Efficiency:\n",
        "Generators produce values one at a time using the yield keyword, rather than constructing and storing the entire sequence in memory. This makes them highly memory-efficient, especially when working with vast or potentially infinite data streams, preventing memory exhaustion.\n",
        "Lazy Evaluation:\n",
        "Values are generated only when requested, on-demand. This \"lazy\" approach means computation is performed only when necessary, which can lead to performance improvements for certain operations, as resources are not consumed to generate values that may never be used.\n",
        "State Preservation:\n",
        "Unlike regular functions that lose their state upon returning, generators maintain their state between successive yield calls. This allows them to resume execution from where they left off, making them suitable for iterative processes that require remembering previous states.\n",
        "Pipelining and Data Processing:\n",
        "Generators can be chained together to create efficient data processing pipelines. Each generator in the chain can perform a specific transformation on the data before passing it to the next stage, enabling modular and memory-efficient data manipulation.\n",
        "Handling Infinite Sequences:\n",
        "Generators are well-suited for representing and iterating over infinite sequences, as they generate values only as needed, avoiding the impossibility of storing an infinite number of elements in memory."
      ],
      "metadata": {
        "id": "0UfkAd52WrKv"
      }
    },
    {
      "cell_type": "markdown",
      "source": [
        "8. What is a lambda function in Python and when is it typically used?\n",
        "\n",
        "   -- A lambda function in Python is an anonymous, single-expression function defined using the lambda keyword. Unlike regular functions defined with def, lambda functions do not have a name and are limited to a single expression, meaning they can only return the result of that expression. They can accept any number of arguments.\n",
        "\n",
        "   Lambda functions are typically used for quick, \"throwaway\" tasks where a small, simple function is needed for a short period of time and a full def function definition would be cumbersome or unnecessary. Common scenarios include:\n",
        "Higher-Order Functions:\n",
        "Lambda functions are frequently used with built-in higher-order functions like map(), filter(), and sorted().\n",
        "map(): Applies a given function to each item of an iterable.\n",
        "filter(): Constructs an iterator from elements of an iterable for which a function returns true.\n",
        "sorted(): Sorts a list of elements based on a custom key."
      ],
      "metadata": {
        "id": "xmIqAeeZW5IM"
      }
    },
    {
      "cell_type": "markdown",
      "source": [
        "9. Explain the purpose and usage of the `map()` function in Python .\n",
        "\n",
        "  -- The map() function in Python is a built-in function used to apply a specified function to each item in an iterable (like a list, tuple, or set) and return an iterator that yields the results. Its primary purpose is to transform data efficiently by applying the same operation to multiple elements without requiring explicit loops.\n",
        "\n",
        "  The syntax for map() is as follows:\n",
        "\n",
        "map(function, iterable, ...)\n",
        "function:\n",
        "This is the function that will be applied to each item of the iterable(s). It can be a regular named function or an anonymous lambda function.\n",
        "iterable:\n",
        "This is the sequence (or multiple sequences) of items that the function will be applied to."
      ],
      "metadata": {
        "id": "oRZ1yrgBXGIO"
      }
    },
    {
      "cell_type": "markdown",
      "source": [
        "10. What is the difference between `map()`, `reduce()`, and `filter()` functions in Python?\n",
        "\n",
        " -- The map(), filter(), and reduce() functions in Python are powerful tools for functional programming, each serving a distinct purpose in data transformation and manipulation.\n",
        "map(function, iterable): This function applies a given function to every item in an iterable (like a list, tuple, etc.) and returns an iterator that yields the results. It is used for transforming each element of a sequence into a new element based on a specific operation.\n",
        "\n",
        "filter(function, iterable): This function constructs an iterator from elements of an iterable for which the function returns True. The function in filter() acts as a predicate, returning a boolean value to determine whether an element should be included in the result.\n",
        "\n",
        "reduce(function, iterable[, initial]): This function, found in the functools module, applies a rolling computation to sequential pairs of elements in an iterable, reducing the iterable to a single cumulative value. The function takes two arguments and is applied repeatedly until a single result remains. An optional initial value can be provided as the starting point for the reduction.\n",
        "\n",
        "In summary, map() transforms each element, filter() selects elements based on a condition, and reduce() aggregates elements into a single result."
      ],
      "metadata": {
        "id": "V7r3AA44XVBC"
      }
    },
    {
      "cell_type": "markdown",
      "source": [
        "11."
      ],
      "metadata": {
        "id": "P6DSJDu4XoCz"
      }
    },
    {
      "cell_type": "code",
      "source": [
        "#Write a Python function that takes a list of numbers as input and returns the sum of all even numbers in\n",
        "#the list.\n",
        "\n",
        "def sum_even_numbers(numbers):\n",
        "    \"\"\"\n",
        "    Calculates the sum of all even numbers in a list.\n",
        "\n",
        "    Args:\n",
        "        numbers: A list of integers.\n",
        "\n",
        "    Returns:\n",
        "        The sum of all even numbers in the list.\n",
        "    \"\"\"\n",
        "    total_sum = 0\n",
        "    for number in numbers:\n",
        "        if number % 2 == 0:  # Check if the number is even\n",
        "            total_sum += number\n",
        "    return total_sum"
      ],
      "metadata": {
        "id": "YaxiWxrAX-pN"
      },
      "execution_count": 4,
      "outputs": []
    },
    {
      "cell_type": "code",
      "source": [
        "#Create a Python function that accepts a string and returns the reverse of that string.\n",
        "\n",
        "def my_function(x):\n",
        "  return x[::-1]\n",
        "\n",
        "mytxt = my_function(\"I wonder how this text looks like backwards\")\n",
        "\n",
        "print(mytxt)"
      ],
      "metadata": {
        "colab": {
          "base_uri": "https://localhost:8080/"
        },
        "id": "KVORwKE2YfyD",
        "outputId": "500a55ad-473f-40ff-b41d-f9321049dcfa"
      },
      "execution_count": 5,
      "outputs": [
        {
          "output_type": "stream",
          "name": "stdout",
          "text": [
            "sdrawkcab ekil skool txet siht woh rednow I\n"
          ]
        }
      ]
    },
    {
      "cell_type": "code",
      "source": [
        "# Implement a Python function that takes a list of integers and returns a new list containing the squares of\n",
        "#each number.\n",
        "\n",
        "def square_numbers(input_list):\n",
        "\n",
        "  squared_list = [num ** 2 for num in input_list]\n",
        "  return squared_list\n",
        "\n",
        "# Example usage:\n",
        "my_numbers = [1, 2, 3, 4, 5]\n",
        "squared_results = square_numbers(my_numbers)\n",
        "print(f\"Original list: {my_numbers}\")\n",
        "print(f\"Squared list: {squared_results}\")\n",
        "\n",
        "another_list = [-2, 0, 7, -1]\n",
        "squared_another = square_numbers(another_list)\n",
        "print(f\"Original list: {another_list}\")\n",
        "print(f\"Squared list: {squared_another}\")"
      ],
      "metadata": {
        "colab": {
          "base_uri": "https://localhost:8080/"
        },
        "id": "oR3l_ARFZUaF",
        "outputId": "b642016c-0f38-4bf0-f3a9-63e15a8089ba"
      },
      "execution_count": 8,
      "outputs": [
        {
          "output_type": "stream",
          "name": "stdout",
          "text": [
            "Original list: [1, 2, 3, 4, 5]\n",
            "Squared list: [1, 4, 9, 16, 25]\n",
            "Original list: [-2, 0, 7, -1]\n",
            "Squared list: [4, 0, 49, 1]\n"
          ]
        }
      ]
    },
    {
      "cell_type": "code",
      "source": [
        "#Write a Python function that checks if a given number is prime or not from 1 to 200.\n",
        "\n",
        "import math\n",
        "\n",
        "def is_prime(num):\n",
        "\n",
        "    if num <= 1:\n",
        "        return False  # Numbers less than or equal to 1 are not prime\n",
        "    if num == 2:\n",
        "        return True   # 2 is the only even prime number\n",
        "    if num % 2 == 0:\n",
        "        return False  # Other even numbers are not prime\n",
        "\n",
        "    # Check for divisibility by odd numbers up to the square root of num\n",
        "    for i in range(3, int(math.sqrt(num)) + 1, 2):\n",
        "        if num % i == 0:\n",
        "            return False\n",
        "    return True\n",
        "\n",
        "print(\"Prime numbers from 1 to 200:\")\n",
        "for number in range(1, 201):\n",
        "    if is_prime(number):\n",
        "        print(number)"
      ],
      "metadata": {
        "colab": {
          "base_uri": "https://localhost:8080/"
        },
        "id": "nbUgHL5YaVUG",
        "outputId": "4d6acb98-fd40-442a-e4e5-3b47ecad86cd"
      },
      "execution_count": 9,
      "outputs": [
        {
          "output_type": "stream",
          "name": "stdout",
          "text": [
            "Prime numbers from 1 to 200:\n",
            "2\n",
            "3\n",
            "5\n",
            "7\n",
            "11\n",
            "13\n",
            "17\n",
            "19\n",
            "23\n",
            "29\n",
            "31\n",
            "37\n",
            "41\n",
            "43\n",
            "47\n",
            "53\n",
            "59\n",
            "61\n",
            "67\n",
            "71\n",
            "73\n",
            "79\n",
            "83\n",
            "89\n",
            "97\n",
            "101\n",
            "103\n",
            "107\n",
            "109\n",
            "113\n",
            "127\n",
            "131\n",
            "137\n",
            "139\n",
            "149\n",
            "151\n",
            "157\n",
            "163\n",
            "167\n",
            "173\n",
            "179\n",
            "181\n",
            "191\n",
            "193\n",
            "197\n",
            "199\n"
          ]
        }
      ]
    },
    {
      "cell_type": "code",
      "source": [
        "#Create an iterator class in Python that generates the Fibonacci sequence up to a specified number of\n",
        "#terms\n",
        "\n",
        "def fibonacci(n):\n",
        "\n",
        "    i = 0\n",
        "    l = [0,1]\n",
        "    while i < n-2:\n",
        "        l.append(l[-1]+l[-2])\n",
        "        i+=1\n",
        "    return l\n",
        "\n",
        "#Main function\n",
        "if __name__ == \"__main__\":\n",
        "   #defining the total number of elements\n",
        "    n = 10\n",
        "\n",
        "    #calling of function\n",
        "    fibo = fibonacci(n)\n",
        "\n",
        "    #displaying the function\n",
        "    print(\"Fibonacci Series: \",*fibo)"
      ],
      "metadata": {
        "colab": {
          "base_uri": "https://localhost:8080/"
        },
        "id": "vygM1q8-a8VZ",
        "outputId": "2df0be33-0247-43d0-c495-3f60c4ec589d"
      },
      "execution_count": 13,
      "outputs": [
        {
          "output_type": "stream",
          "name": "stdout",
          "text": [
            "Fibonacci Series:  0 1 1 2 3 5 8 13 21 34\n"
          ]
        }
      ]
    },
    {
      "cell_type": "code",
      "source": [
        "#Write a generator function in Python that yields the powers of 2 up to a given exponent.\n",
        "\n",
        "def fun(max):\n",
        "    cnt = 1\n",
        "    while cnt <= max:\n",
        "        yield cnt\n",
        "        cnt += 1\n",
        "\n",
        "ctr = fun(5)\n",
        "for n in ctr:\n",
        "    print(n)"
      ],
      "metadata": {
        "colab": {
          "base_uri": "https://localhost:8080/"
        },
        "id": "mAqVMiPAbJOF",
        "outputId": "dc2820ad-ddf9-425c-8d5d-5350cb08f34f"
      },
      "execution_count": 16,
      "outputs": [
        {
          "output_type": "stream",
          "name": "stdout",
          "text": [
            "1\n",
            "2\n",
            "3\n",
            "4\n",
            "5\n"
          ]
        }
      ]
    },
    {
      "cell_type": "code",
      "source": [
        "#Implement a generator function that reads a file line by line and yields each line as a string.\n",
        "\n",
        "def read_file_lines(file_path):\n",
        "    \"\"\"\n",
        "    A generator function that reads a file line by line and yields each line.\n",
        "\n",
        "    Args:\n",
        "        file_path (str): The path to the file to be read.\n",
        "\n",
        "    Yields:\n",
        "        str: Each line from the file as a string, with trailing newline characters removed.\n",
        "    \"\"\"\n",
        "    try:\n",
        "        with open(file_path, 'r') as file:\n",
        "            for line in file:\n",
        "                yield line.strip('\\n')  # Remove the newline character\n",
        "    except FileNotFoundError:\n",
        "        print(f\"Error: The file '{file_path}' was not found.\")\n",
        "    except Exception as e:\n",
        "        print(f\"An error occurred: {e}\")\n",
        "\n",
        "# Example usage:\n",
        "# Create a dummy file for demonstration\n",
        "with open(\"sample.txt\", \"w\") as f:\n",
        "    f.write(\"This is line 1.\\n\")\n",
        "    f.write(\"This is line 2.\\n\")\n",
        "    f.write(\"And this is line 3.\")\n",
        "\n",
        "# Iterate through the lines using the generator\n",
        "for line in read_file_lines(\"sample.txt\"):\n",
        "    print(line)\n",
        "\n",
        "# Example with a non-existent file\n",
        "for line in read_file_lines(\"non_existent_file.txt\"):\n",
        "    print(line)"
      ],
      "metadata": {
        "colab": {
          "base_uri": "https://localhost:8080/"
        },
        "id": "yClhra8ubrhl",
        "outputId": "8e88833e-a6c2-4db5-d4a8-f8b38e681e69"
      },
      "execution_count": 17,
      "outputs": [
        {
          "output_type": "stream",
          "name": "stdout",
          "text": [
            "This is line 1.\n",
            "This is line 2.\n",
            "And this is line 3.\n",
            "Error: The file 'non_existent_file.txt' was not found.\n"
          ]
        }
      ]
    },
    {
      "cell_type": "code",
      "source": [
        "#Use a lambda function in Python to sort a list of tuples based on the second element of each tuple.\n",
        "\n",
        "\n",
        "a = [(5, 2), (1, 6), (3, 4)]\n",
        "\n",
        "# Sort the list in-place based on the second element\n",
        "a.sort(key=lambda x: x[1])\n",
        "\n",
        "print(a)"
      ],
      "metadata": {
        "colab": {
          "base_uri": "https://localhost:8080/"
        },
        "id": "JdAz0AdlcH81",
        "outputId": "67516ae6-52ab-4a91-bc16-692dd785e8f8"
      },
      "execution_count": 18,
      "outputs": [
        {
          "output_type": "stream",
          "name": "stdout",
          "text": [
            "[(5, 2), (3, 4), (1, 6)]\n"
          ]
        }
      ]
    },
    {
      "cell_type": "code",
      "source": [
        "#Write a Python program that uses `map()` to convert a list of temperatures from Celsius to Fahrenheit.\n",
        "\n",
        "def celsius_to_fahrenheit(celsius):\n",
        "  \"\"\"Converts a temperature from Celsius to Fahrenheit.\"\"\"\n",
        "  return (celsius * 9/5) + 32\n",
        "\n",
        "# List of temperatures in Celsius\n",
        "celsius_temperatures = [0, 10, 25, 37.5, 100]\n",
        "\n",
        "# Use map() to apply the conversion function to each element\n",
        "fahrenheit_temperatures = list(map(celsius_to_fahrenheit, celsius_temperatures))\n",
        "\n",
        "# Print the original and converted temperatures\n",
        "print(f\"Celsius Temperatures: {celsius_temperatures}\")\n",
        "print(f\"Fahrenheit Temperatures: {fahrenheit_temperatures}\")"
      ],
      "metadata": {
        "colab": {
          "base_uri": "https://localhost:8080/"
        },
        "id": "ZxgImdBlcVLc",
        "outputId": "964ed842-5c87-47f3-f59d-c6c9526d21b1"
      },
      "execution_count": 19,
      "outputs": [
        {
          "output_type": "stream",
          "name": "stdout",
          "text": [
            "Celsius Temperatures: [0, 10, 25, 37.5, 100]\n",
            "Fahrenheit Temperatures: [32.0, 50.0, 77.0, 99.5, 212.0]\n"
          ]
        }
      ]
    },
    {
      "cell_type": "code",
      "source": [
        "#Create a Python program that uses `filter()` to remove all the vowels from a given string.\n",
        "\n",
        "a=list(\"sample\")\n",
        "def vowel(x):\n",
        "    v=('a','e','i','o','u')\n",
        "    return x in v\n",
        "\n",
        "b=list(filter(vowel,a))\n",
        "print(\"Vowels : \",b)\n",
        "print(\"No of Vowels : \",len(b))"
      ],
      "metadata": {
        "colab": {
          "base_uri": "https://localhost:8080/"
        },
        "id": "zywWdPJccjfd",
        "outputId": "de584d27-d8ce-4ac0-d6ac-62ed1d4baa18"
      },
      "execution_count": 20,
      "outputs": [
        {
          "output_type": "stream",
          "name": "stdout",
          "text": [
            "Vowels :  ['a', 'e']\n",
            "No of Vowels :  2\n"
          ]
        }
      ]
    },
    {
      "cell_type": "code",
      "source": [
        "# Imagine an accounting routine used in a book shop. It works on a list with sublists, which look like this:\n",
        "\n",
        "\n",
        "orders = [\n",
        "    [\"34587\", \"Learning Python, Mark Lutz\", 4, 40.95],\n",
        "    [\"98762\", \"Programming Python, Mark Lutz\", 5, 56.80],\n",
        "    [\"77226\", \"Head First Python, Paul Barry\", 3, 32.95],\n",
        "    [\"88112\", \"Python Cookbook, David Beazley\", 3, 24.99]\n",
        "]\n",
        "\n",
        "# Use map and lambda to process each order\n",
        "# The lambda function calculates the order value (quantity * price)\n",
        "# and adds 10 if the value is less than 100, otherwise keeps the original value.\n",
        "# It then returns a tuple of (order number, calculated value).\n",
        "result = list(map(lambda order: (order[0], order[2] * order[3] + 10 if order[2] * order[3] < 100 else order[2] * order[3]), orders))\n",
        "\n",
        "print(result)"
      ],
      "metadata": {
        "colab": {
          "base_uri": "https://localhost:8080/"
        },
        "id": "9JCN6kvfc7aF",
        "outputId": "e0caab8f-6cae-4a87-e2d7-4c0aa7424533"
      },
      "execution_count": 21,
      "outputs": [
        {
          "output_type": "stream",
          "name": "stdout",
          "text": [
            "[('34587', 163.8), ('98762', 284.0), ('77226', 108.85000000000001), ('88112', 84.97)]\n"
          ]
        }
      ]
    },
    {
      "cell_type": "code",
      "source": [],
      "metadata": {
        "id": "sCP97rx8dKOG"
      },
      "execution_count": null,
      "outputs": []
    }
  ]
}