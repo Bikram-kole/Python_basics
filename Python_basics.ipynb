{
  "nbformat": 4,
  "nbformat_minor": 0,
  "metadata": {
    "colab": {
      "provenance": []
    },
    "kernelspec": {
      "name": "python3",
      "display_name": "Python 3"
    },
    "language_info": {
      "name": "python"
    }
  },
  "cells": [
    {
      "cell_type": "code",
      "execution_count": null,
      "metadata": {
        "id": "i2IKOCiiFJk7"
      },
      "outputs": [],
      "source": []
    },
    {
      "cell_type": "markdown",
      "source": [
        "# Python Basisc"
      ],
      "metadata": {
        "id": "lZ0A9Q6_FhTm"
      }
    },
    {
      "cell_type": "code",
      "source": [],
      "metadata": {
        "id": "x_7kVKutFltn"
      },
      "execution_count": null,
      "outputs": []
    },
    {
      "cell_type": "markdown",
      "source": [
        "1. What is Python, and why is it popular\n",
        "\n",
        "   - Python is a popular programming language. It was created by Guido van Rossum, and released in 1991.\n",
        "\n",
        "Python works on different platforms (Windows, Mac, Linux, Raspberry Pi, etc).\n",
        "Python has a simple syntax similar to the English language.\n",
        "Python has syntax that allows developers to write programs with fewer lines than some other programming languages.\n",
        "Python runs on an interpreter system, meaning that code can be executed as soon as it is written. This means that prototyping can be very quick.\n",
        "Python can be treated in a procedural way, an object-oriented way or a functional way.\n",
        "\n",
        "2. What is an interpreter in Python\n",
        "\n",
        "   -- A Python interpreter is a program that converts Python code into machine-readable instructions and runs them, enabling you to execute Python scripts and view results instantly. It acts as a bridge between the high-level Python code you write and the low-level instructions that the computer can directly utilize.\n",
        "\n",
        " 3. What are pre-defined keywords in Python ?\n",
        "   \n",
        "    -Predefined keywords in Python are reserved words that have special meanings and functionalities within the language. They cannot be used as identifiers (like variable names, function names, or class names) because they are integral to Python's syntax and structure.\n",
        "    \n",
        "    False, None, True, and, as, assert, async, await, break, class, continue, def, del, elif, else, except, finally, for, from, global, if, import\n",
        "\n",
        " 4. Can keywords be used as variable names?\n",
        "\n",
        "    -- No, keywords cannot be used as variable names in Python. Python keywords are reserved words that have special meanings and are integral to the syntax and structure of the language. They are recognized by the Python interpreter and serve specific purposes, such as defining control flow, data types, or program structure.\n",
        "\n",
        "  5. What is mutability in Python ?\n",
        "\n",
        "     -- In Python, mutability refers to whether an object's state or value can be changed after it is created.\n",
        "Mutable Objects:\n",
        "Mutable objects can be modified after their creation without creating a new object.\n",
        "Changes made to a mutable object are reflected in all references pointing to that object.\n",
        "Examples of mutable data types in Python include:\n",
        "Lists: Ordered collections of items that can be added, removed, or modified.\n",
        "Dictionaries: Unordered collections of key-value pairs where values can be added, removed, or modified by their keys.     \n",
        "\n",
        "6. Why are lists mutable, but tuples are immutable ?\n",
        "\n",
        "  -- The fundamental difference between Python lists and tuples lies in their mutability: lists are designed to be mutable, while tuples are designed to be immutable. This design choice is not based on a technical limitation but rather on their intended use cases and the guarantees they offer.\n",
        "\n",
        "  If you store these objects in a list, there is a chance that some other method using the list will accidentally alter it and thus break your method. Thus, in a way, a tuple offers a guarantee that a particular collection of objects will remain fixed.\n",
        "\n",
        "\n",
        "7. What is the difference between “==” and “is” operators in Python ?\n",
        "\n",
        "  -- n Python, == and is operators are both used for comparison but they serve different purposes. The == operator checks for equality of values which means it evaluates whether the values of two objects are the same. On the other hand, is operator checks for identity, meaning it determines whether two variables point to the same object in memory.\n",
        "\n",
        "== Operator\n",
        "To compare objects based on their values, Python's equality operators (==) are employed. It calls the left object's __eq__() class method which specifies the criteria for determining equality. However, these constraints are typically written so that the equality operator == returns True if two objects, have the same value and returns False if both have different value.\n",
        "\n",
        "‘is’ Operator\n",
        "Python identity operators (is, is not) are used to compare objects based on their identity. When the variables on either side of an operator point at the exact same object, the \"is\" operator's evaluation is true. Otherwise, it would provide us with a false assessment.\n",
        "\n",
        "8. What are logical operators in Python ?\n",
        "  \n",
        "  -- Python logical operators are used to combine conditional statements, allowing you to perform operations based on multiple conditions. These Python operators, alongside arithmetic operators, are special symbols used to carry out computations on values and variables. In this article, we will discuss logical operators in Python definition and also look at some Python logical operators programs, to completely grasp the concept.\n",
        "\n",
        "  In Python, Logical operators are used on conditional statements (either True or False). They perform Logical AND, Logical OR, and Logical NOT operations.\n",
        "\n",
        "9. What is type casting in Python ?\n",
        "\n",
        "  -- ype Casting is the method to convert the Python variable datatype into a certain data type in order to perform the required operation by users. In this article, we will see the various techniques for typecasting. There can be two types of Type Casting in Python:\n",
        "\n",
        "Python Implicit Type Conversion\n",
        "Python Explicit Type Conversion\n",
        "\n",
        "\n",
        "10. What is the difference between implicit and explicit type casting ?\n",
        "\n",
        "  -- Implicit casting is done without you needing to ask for it and explicit casting is done when you ask for it. Implicit casting can't happen where a loss of precision may occur, for example casting a float to an int but can happening when a loss of precision will not occur such as casting an int to a float.\n",
        "\n",
        "\n",
        "11. What is the purpose of conditional statements in Python ?\n",
        "\n",
        "-- The purpose of conditional statements in Python is to control the flow of execution in a program based on whether certain conditions are true or false. They enable a program to make decisions and perform different actions depending on various scenarios, inputs, or data states.\n",
        "Specifically, conditional statements allow for:\n",
        "Decision Making:\n",
        "They provide a mechanism for the program to evaluate a condition (an expression that results in a Boolean True or False value) and execute specific blocks of code only if that condition is met.\n",
        "Branching:\n",
        "They allow for different paths of execution within a program, enabling it to respond dynamically to different situations. For example, an if-else statement allows one block of code to run if a condition is true, and a different block to run if it's false.\n",
        "Handling Multiple Scenarios:\n",
        "if-elif-else constructs facilitate handling multiple, mutually exclusive conditions in a sequence, allowing for more complex decision logic.\n",
        "\n",
        "\n",
        "12.  How does the elif statement work ?\n",
        "\n",
        "    -- The “elif” keyword in Python, stands for “else if”. It can be used in conditional statements to check for multiple conditions. For example, if the first condition is false, it moves on to the next “elif” statement to check if that condition is true. If none of the conditions are true, the code will execute the else statement.\n",
        "\n",
        "13. What is the difference between for and while loops?\n",
        "\n",
        "   -- The main difference between For and While Loops in Python lies in their iteration control. A For loop is used when the number of iterations is predetermined, often iterating over elements using functions like “range” or directly over generators. In contrast, a While loop operates without prior knowledge of iterations and allows for flexible initialization within its body. Performance-wise, For loops are generally faster than While loops.\n",
        "\n",
        "14. Describe a scenario where a while loop is more suitable than a for loop .\n",
        "\n",
        "\n",
        "  -- A while loop is more suitable than a for loop in scenarios where the number of iterations is not known or predetermined before the loop begins. Instead, the loop continues as long as a specific condition remains true.\n",
        "  \n",
        "Scenario: User Input Validation\n",
        "Consider a program that requires a user to enter a valid password. The program should repeatedly prompt the user for input until a password meeting specific criteria (e.g., minimum length, containing numbers and special characters) is entered.In this scenario, a while loop is preferred because:\n",
        "Unknown Iterations:\n",
        "The number of times the user will enter an invalid password is unknown. The loop must continue until a valid password is provided, regardless of how many attempts it takes.\n",
        "Condition-Based Termination:\n",
        "The loop's termination depends entirely on the is_password_valid condition becoming true, which is directly tied to the user's input and its validation. A for loop, designed for a fixed number of iterations or iterating over a known sequence, would not be as naturally suited for this dynamic, condition-driven process"
      ],
      "metadata": {
        "id": "95GwbedkFm45"
      }
    },
    {
      "cell_type": "code",
      "source": [
        "# Write a Python program to print \"Hello, World!"
      ],
      "metadata": {
        "id": "J8gLdFBmPzSu"
      },
      "execution_count": 1,
      "outputs": []
    },
    {
      "cell_type": "code",
      "source": [
        "print(\"Hello, World!\")"
      ],
      "metadata": {
        "colab": {
          "base_uri": "https://localhost:8080/"
        },
        "id": "pURvcsjBP5el",
        "outputId": "3e2c2d61-1600-413a-a63d-94593517b2ef"
      },
      "execution_count": 2,
      "outputs": [
        {
          "output_type": "stream",
          "name": "stdout",
          "text": [
            "Hello, World!\n"
          ]
        }
      ]
    },
    {
      "cell_type": "code",
      "source": [
        "#Write a Python program that displays your name and age"
      ],
      "metadata": {
        "id": "hXjx18YuQDQD"
      },
      "execution_count": 3,
      "outputs": []
    },
    {
      "cell_type": "code",
      "source": [
        "name = input(\"enter your name\")\n",
        "age = input(\"enter your age\")\n",
        "\n",
        "output = (\"My name is \" + name + \" and my age is \" + age)\n",
        "\n",
        "print (output)\n",
        "\n"
      ],
      "metadata": {
        "colab": {
          "base_uri": "https://localhost:8080/"
        },
        "id": "2tczFZoLQGxS",
        "outputId": "89062230-7346-4020-9db7-56fef253e1ea"
      },
      "execution_count": 7,
      "outputs": [
        {
          "output_type": "stream",
          "name": "stdout",
          "text": [
            "enter your nameBikram\n",
            "enter your age26\n",
            "My name is Bikram and my age is 26\n"
          ]
        }
      ]
    },
    {
      "cell_type": "code",
      "source": [],
      "metadata": {
        "id": "ONW03QuyR2NA"
      },
      "execution_count": null,
      "outputs": []
    },
    {
      "cell_type": "code",
      "source": [
        "# Write code to print all the pre-defined keywords in Python using the keyword library8"
      ],
      "metadata": {
        "id": "DT0OOuRsSMjs"
      },
      "execution_count": 8,
      "outputs": []
    },
    {
      "cell_type": "code",
      "source": [
        "import keyword\n",
        "\n",
        "# Get the list of all Python keywords\n",
        "all_keywords = keyword.kwlist\n",
        "\n",
        "# Print the list of keywords\n",
        "print(\"Predefined keywords in Python:\")\n",
        "for kw in all_keywords:\n",
        "    print(kw)\n",
        "\n",
        "# Optionally, print the total number of keywords\n",
        "print(f\"\\nTotal number of keywords: {len(all_keywords)}\")"
      ],
      "metadata": {
        "colab": {
          "base_uri": "https://localhost:8080/"
        },
        "id": "EqI-onQKSRYf",
        "outputId": "4794f47d-7edc-45fd-c4ff-a40d3ca7ab33"
      },
      "execution_count": 9,
      "outputs": [
        {
          "output_type": "stream",
          "name": "stdout",
          "text": [
            "Predefined keywords in Python:\n",
            "False\n",
            "None\n",
            "True\n",
            "and\n",
            "as\n",
            "assert\n",
            "async\n",
            "await\n",
            "break\n",
            "class\n",
            "continue\n",
            "def\n",
            "del\n",
            "elif\n",
            "else\n",
            "except\n",
            "finally\n",
            "for\n",
            "from\n",
            "global\n",
            "if\n",
            "import\n",
            "in\n",
            "is\n",
            "lambda\n",
            "nonlocal\n",
            "not\n",
            "or\n",
            "pass\n",
            "raise\n",
            "return\n",
            "try\n",
            "while\n",
            "with\n",
            "yield\n",
            "\n",
            "Total number of keywords: 35\n"
          ]
        }
      ]
    },
    {
      "cell_type": "code",
      "source": [
        "# Write a program that checks if a given word is a Python keyword.\n",
        "\n",
        "import keyword\n",
        "\n",
        "s = 'bk'\n",
        "\n",
        "# Check if it's a Python keyword\n",
        "if keyword.iskeyword(s):\n",
        "    print(f\"'{s}' is a Python keyword.\")\n",
        "else:\n",
        "    print(f\"'{s}' is not a Python keyword.\")"
      ],
      "metadata": {
        "colab": {
          "base_uri": "https://localhost:8080/"
        },
        "id": "B2vE7VzySe5e",
        "outputId": "780ace60-88ca-43c9-b9de-91ff1d437c04"
      },
      "execution_count": 11,
      "outputs": [
        {
          "output_type": "stream",
          "name": "stdout",
          "text": [
            "'bk' is not a Python keyword.\n"
          ]
        }
      ]
    },
    {
      "cell_type": "code",
      "source": [
        "import keyword\n",
        "\n",
        "s = 'for'\n",
        "\n",
        "# Check if it's a Python keyword\n",
        "if keyword.iskeyword(s):\n",
        "    print(f\"'{s}' is a Python keyword.\")\n",
        "else:\n",
        "    print(f\"'{s}' is not a Python keyword.\")"
      ],
      "metadata": {
        "colab": {
          "base_uri": "https://localhost:8080/"
        },
        "id": "GLoT8f-lTEIh",
        "outputId": "7c68ee3d-183c-4520-9aa9-92bd2cb7429b"
      },
      "execution_count": 12,
      "outputs": [
        {
          "output_type": "stream",
          "name": "stdout",
          "text": [
            "'for' is a Python keyword.\n"
          ]
        }
      ]
    },
    {
      "cell_type": "code",
      "source": [
        "'''\n",
        "Create a list and tuple in Python, and demonstrate how attempting to change an element works differently\n",
        "for each\n",
        "'''"
      ],
      "metadata": {
        "colab": {
          "base_uri": "https://localhost:8080/",
          "height": 53
        },
        "id": "3ZtXPc8mTLFs",
        "outputId": "e3cb1110-f770-4de0-b102-0eb0e115f627"
      },
      "execution_count": 14,
      "outputs": [
        {
          "output_type": "execute_result",
          "data": {
            "text/plain": [
              "' \\nCreate a list and tuple in Python, and demonstrate how attempting to change an element works differently\\nfor each \\n'"
            ],
            "application/vnd.google.colaboratory.intrinsic+json": {
              "type": "string"
            }
          },
          "metadata": {},
          "execution_count": 14
        }
      ]
    },
    {
      "cell_type": "code",
      "source": [
        "# Create a list\n",
        "my_list = [10, 20, 30, 40]\n",
        "print(f\"Original list: {my_list}\")\n",
        "\n",
        "# Attempt to change an element in the list\n",
        "my_list[1] = 70\n",
        "print(f\"Modified list: {my_list}\")"
      ],
      "metadata": {
        "colab": {
          "base_uri": "https://localhost:8080/"
        },
        "id": "MwE4qzqJTXj8",
        "outputId": "ed47cd9d-868a-4487-c371-834ef53f1aa0"
      },
      "execution_count": 15,
      "outputs": [
        {
          "output_type": "stream",
          "name": "stdout",
          "text": [
            "Original list: [10, 20, 30, 40]\n",
            "Modified list: [10, 70, 30, 40]\n"
          ]
        }
      ]
    },
    {
      "cell_type": "code",
      "source": [
        "# Write a function to demonstrate the behavior of mutable and immutable arguments.\n",
        "\n",
        "def demonstrate_argument_behavior(mutable_arg, immutable_arg):\n",
        "    \"\"\"\n",
        "    Demonstrates the behavior of mutable and immutable arguments in Python.\n",
        "\n",
        "    Args:\n",
        "        mutable_arg (list): A mutable object (e.g., a list).\n",
        "        immutable_arg (int): An immutable object (e.g., an integer).\n",
        "    \"\"\"\n",
        "    print(f\"Inside function - Initial mutable_arg: {mutable_arg}, id: {id(mutable_arg)}\")\n",
        "    print(f\"Inside function - Initial immutable_arg: {immutable_arg}, id: {id(immutable_arg)}\")\n",
        "\n",
        "    # Modify the mutable argument\n",
        "    mutable_arg.append(4)\n",
        "    print(f\"Inside function - Modified mutable_arg: {mutable_arg}, id: {id(mutable_arg)}\")\n",
        "\n",
        "    # Attempt to modify the immutable argument (this creates a new object)\n",
        "    immutable_arg += 10\n",
        "    print(f\"Inside function - Modified immutable_arg: {immutable_arg}, id: {id(immutable_arg)}\")\n",
        "\n",
        "\n",
        "if __name__ == \"__main__\":\n",
        "    my_list = [1, 2, 3]\n",
        "    my_int = 5\n",
        "\n",
        "    print(f\"Outside function - Initial my_list: {my_list}, id: {id(my_list)}\")\n",
        "    print(f\"Outside function - Initial my_int: {my_int}, id: {id(my_int)}\")\n",
        "\n",
        "    demonstrate_argument_behavior(my_list, my_int)\n",
        "\n",
        "    print(f\"Outside function - After function call, my_list: {my_list}, id: {id(my_list)}\")\n",
        "    print(f\"Outside function - After function call, my_int: {my_int}, id: {id(my_int)}\")"
      ],
      "metadata": {
        "colab": {
          "base_uri": "https://localhost:8080/"
        },
        "id": "240mMKlaTupg",
        "outputId": "32e4b86d-55ed-4834-f789-93ab094fcc8c"
      },
      "execution_count": 16,
      "outputs": [
        {
          "output_type": "stream",
          "name": "stdout",
          "text": [
            "Outside function - Initial my_list: [1, 2, 3], id: 137143442895680\n",
            "Outside function - Initial my_int: 5, id: 10757864\n",
            "Inside function - Initial mutable_arg: [1, 2, 3], id: 137143442895680\n",
            "Inside function - Initial immutable_arg: 5, id: 10757864\n",
            "Inside function - Modified mutable_arg: [1, 2, 3, 4], id: 137143442895680\n",
            "Inside function - Modified immutable_arg: 15, id: 10758184\n",
            "Outside function - After function call, my_list: [1, 2, 3, 4], id: 137143442895680\n",
            "Outside function - After function call, my_int: 5, id: 10757864\n"
          ]
        }
      ]
    },
    {
      "cell_type": "code",
      "source": [
        "#  Write a program that performs basic arithmetic operations on two user-input numbers.\n",
        "\n",
        "a = input(\"enter the first number\")\n",
        "b = input(\"enter the second number\")\n",
        "\n",
        "# Adding two numbers\n",
        "sum = float(a) + float(b)\n",
        "print(sum)"
      ],
      "metadata": {
        "colab": {
          "base_uri": "https://localhost:8080/"
        },
        "id": "fGwxUDkxUUEe",
        "outputId": "1253327d-9838-4e92-d93c-1a35ba8c49ab"
      },
      "execution_count": 18,
      "outputs": [
        {
          "output_type": "stream",
          "name": "stdout",
          "text": [
            "enter the first number34\n",
            "enter the second number89\n",
            "123.0\n"
          ]
        }
      ]
    },
    {
      "cell_type": "code",
      "source": [
        "# Write a program to demonstrate the use of logical operators\n",
        "\n",
        "a = 10\n",
        "b = -10\n",
        "c = 0\n",
        "if a > 0 or b > 0:\n",
        "    print(\"Either of the number is greater than 0\")\n",
        "else:\n",
        "    print(\"No number is greater than 0\")\n",
        "if b > 0 or c > 0:\n",
        "    print(\"Either of the number is greater than 0\")\n",
        "else:\n",
        "    print(\"No number is greater than 0\")"
      ],
      "metadata": {
        "colab": {
          "base_uri": "https://localhost:8080/"
        },
        "id": "BB77xnSmVAe4",
        "outputId": "6d59bf5f-2331-4b7e-af61-28aad24bb29f"
      },
      "execution_count": 19,
      "outputs": [
        {
          "output_type": "stream",
          "name": "stdout",
          "text": [
            "Either of the number is greater than 0\n",
            "No number is greater than 0\n"
          ]
        }
      ]
    },
    {
      "cell_type": "code",
      "source": [
        "# Write a Python program to convert user input from string to integer, float, and boolean types.\n",
        "\n",
        "# convert string to int\n",
        "\n",
        "s = input(\"enter a number\")\n",
        "num = int(s)\n",
        "print(num)\n",
        "\n",
        "#"
      ],
      "metadata": {
        "colab": {
          "base_uri": "https://localhost:8080/"
        },
        "id": "0v7nkS3nVups",
        "outputId": "3136305c-75da-4681-e32f-c919997fadc9"
      },
      "execution_count": 20,
      "outputs": [
        {
          "output_type": "stream",
          "name": "stdout",
          "text": [
            "enter a number45\n",
            "45\n"
          ]
        }
      ]
    },
    {
      "cell_type": "code",
      "source": [
        "# Write code to demonstrate type casting with list elements\n",
        "\n",
        "a = [1, 4, 9, 10, 19]\n",
        "b = [[5, 6, 8], [8, 5, 3], [9, 10, 3]]\n",
        "\n",
        "c = []\n",
        "d = []\n",
        "\n",
        "for x in a:\n",
        "    c.append(str(x))\n",
        "print(c)\n",
        "\n",
        "for sub in b:\n",
        "    temp = []\n",
        "    for x in sub:\n",
        "        temp.append(str(x))\n",
        "    d.append(temp)\n",
        "print(d)"
      ],
      "metadata": {
        "colab": {
          "base_uri": "https://localhost:8080/"
        },
        "id": "XvvRqQH5WkbB",
        "outputId": "984f4909-199c-4c95-8433-26995fc6888b"
      },
      "execution_count": 21,
      "outputs": [
        {
          "output_type": "stream",
          "name": "stdout",
          "text": [
            "['1', '4', '9', '10', '19']\n",
            "[['5', '6', '8'], ['8', '5', '3'], ['9', '10', '3']]\n"
          ]
        }
      ]
    },
    {
      "cell_type": "code",
      "source": [
        "# Write a program that checks if a number is positive, negative, or zero.\n",
        "\n",
        "n= 45\n",
        "x=[\"positive\" if n>0 else \"negative\" if n<0 else \"zero\" ]\n",
        "print(x)"
      ],
      "metadata": {
        "colab": {
          "base_uri": "https://localhost:8080/"
        },
        "id": "tQ1TYoX0W9HU",
        "outputId": "213725ff-95f7-4788-a135-2d5dc02df514"
      },
      "execution_count": 23,
      "outputs": [
        {
          "output_type": "stream",
          "name": "stdout",
          "text": [
            "['positive']\n"
          ]
        }
      ]
    },
    {
      "cell_type": "code",
      "source": [
        "# Write a for loop to print numbers from 1 to 10\n",
        "\n",
        "for i in range(1, 11):\n",
        "    print(i)"
      ],
      "metadata": {
        "colab": {
          "base_uri": "https://localhost:8080/"
        },
        "id": "BSX3CiY_XUyY",
        "outputId": "abf74836-9c4e-4df5-da26-ae9f7245785f"
      },
      "execution_count": 24,
      "outputs": [
        {
          "output_type": "stream",
          "name": "stdout",
          "text": [
            "1\n",
            "2\n",
            "3\n",
            "4\n",
            "5\n",
            "6\n",
            "7\n",
            "8\n",
            "9\n",
            "10\n"
          ]
        }
      ]
    },
    {
      "cell_type": "code",
      "source": [
        "# Write a Python program to find the sum of all even numbers between 1 and 50\n",
        "\n",
        "total_sum = 0\n",
        "for number in range(1, 51):  # Iterate from 1 up to and including 50\n",
        "    if number % 2 == 0:  # Check if the number is even\n",
        "        total_sum += number  # Add the even number to the total sum\n",
        "\n",
        "print(f\"The sum of all even numbers between 1 and 50 is: {total_sum}\")"
      ],
      "metadata": {
        "colab": {
          "base_uri": "https://localhost:8080/"
        },
        "id": "pplrYoNiXkws",
        "outputId": "12c48c2f-9a5a-4ff0-a51a-7f62fd473020"
      },
      "execution_count": 25,
      "outputs": [
        {
          "output_type": "stream",
          "name": "stdout",
          "text": [
            "The sum of all even numbers between 1 and 50 is: 650\n"
          ]
        }
      ]
    },
    {
      "cell_type": "code",
      "source": [
        "# Write a program to reverse a string using a while loop.\n",
        "\n",
        "def reverse_string_with_while():\n",
        "    # Get input from the user\n",
        "    original = input(\"Enter a string to reverse: \")\n",
        "\n",
        "    reversed_str = \"\"\n",
        "    index = len(original) - 1\n",
        "\n",
        "    # Use while loop to build the reversed string\n",
        "    while index >= 0:\n",
        "        reversed_str += original[index]\n",
        "        index -= 1\n",
        "\n",
        "    # Display the result\n",
        "    print(f\"Reversed string: {reversed_str}\")\n",
        "\n",
        "    reverse_string_with_while()\n"
      ],
      "metadata": {
        "id": "lvL5RAumX3nf"
      },
      "execution_count": 27,
      "outputs": []
    },
    {
      "cell_type": "code",
      "source": [
        "# Write a Python program to calculate the factorial of a number provided by the user using a while loop\n",
        "\n",
        "num = int(input(\"Enter a non-negative integer: \"))\n",
        "\n",
        "\n",
        "fact = 1\n",
        "i = 1\n",
        "\n",
        "\n",
        "if num < 0:\n",
        "    print(\"Factorial does not exist for negative numbers.\")\n",
        "\n",
        "elif num == 0:\n",
        "    print(\"The factorial of 0 is 1.\")\n",
        "\n",
        "else:\n",
        "    while i <= num:\n",
        "        fact = fact * i\n",
        "        i = i + 1\n",
        "    print(f\"The factorial of {num} is {fact}.\")"
      ],
      "metadata": {
        "colab": {
          "base_uri": "https://localhost:8080/"
        },
        "id": "990hzcp2YM18",
        "outputId": "840507ed-0b51-4674-fafd-c1d58b9a217e"
      },
      "execution_count": 28,
      "outputs": [
        {
          "output_type": "stream",
          "name": "stdout",
          "text": [
            "Enter a non-negative integer: 43\n",
            "The factorial of 43 is 60415263063373835637355132068513997507264512000000000.\n"
          ]
        }
      ]
    },
    {
      "cell_type": "code",
      "source": [],
      "metadata": {
        "id": "YDu0sWHhYiwx"
      },
      "execution_count": null,
      "outputs": []
    }
  ]
}